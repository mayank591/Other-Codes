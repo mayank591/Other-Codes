{
 "cells": [
  {
   "cell_type": "code",
   "execution_count": 1,
   "id": "440c23ba",
   "metadata": {},
   "outputs": [],
   "source": [
    "import xarray as xr\n",
    "import pandas as pd\n",
    "import glob\n",
    "import os"
   ]
  },
  {
   "cell_type": "code",
   "execution_count": 10,
   "id": "f95a421e",
   "metadata": {},
   "outputs": [],
   "source": [
    "file_lst = glob.glob('C:/Mayank/Projects/Project_Vietnam/NewData/GCM_Download/ECEARTH3/Merged/Clipped/Unit_Changed/Regional/*.nc')"
   ]
  },
  {
   "cell_type": "code",
   "execution_count": 11,
   "id": "decf18cc",
   "metadata": {},
   "outputs": [],
   "source": [
    "output_folder = 'C:/Mayank/Projects/Project_Vietnam/NewData/GCM_Download/ECEARTH3/Merged/Clipped/Unit_Changed/Regional/CSV'"
   ]
  },
  {
   "cell_type": "code",
   "execution_count": 12,
   "id": "7467d74a",
   "metadata": {},
   "outputs": [
    {
     "name": "stdout",
     "output_type": "stream",
     "text": [
      "C:/Mayank/Projects/Project_Vietnam/NewData/GCM_Download/ECEARTH3/Merged/Clipped/Unit_Changed/Regional\\historical_pr_ecearth3_final_Central.nc\n",
      "historical_pr_ecearth3_final_Central\n",
      "C:/Mayank/Projects/Project_Vietnam/NewData/GCM_Download/ECEARTH3/Merged/Clipped/Unit_Changed/Regional\\historical_pr_ecearth3_final_North.nc\n",
      "historical_pr_ecearth3_final_North\n",
      "C:/Mayank/Projects/Project_Vietnam/NewData/GCM_Download/ECEARTH3/Merged/Clipped/Unit_Changed/Regional\\historical_pr_ecearth3_final_South.nc\n",
      "historical_pr_ecearth3_final_South\n",
      "C:/Mayank/Projects/Project_Vietnam/NewData/GCM_Download/ECEARTH3/Merged/Clipped/Unit_Changed/Regional\\historical_tas_ecearth3_final_Central.nc\n",
      "historical_tas_ecearth3_final_Central\n",
      "C:/Mayank/Projects/Project_Vietnam/NewData/GCM_Download/ECEARTH3/Merged/Clipped/Unit_Changed/Regional\\historical_tas_ecearth3_final_North.nc\n",
      "historical_tas_ecearth3_final_North\n",
      "C:/Mayank/Projects/Project_Vietnam/NewData/GCM_Download/ECEARTH3/Merged/Clipped/Unit_Changed/Regional\\historical_tas_ecearth3_final_South.nc\n",
      "historical_tas_ecearth3_final_South\n",
      "C:/Mayank/Projects/Project_Vietnam/NewData/GCM_Download/ECEARTH3/Merged/Clipped/Unit_Changed/Regional\\ssp245_pr_ecearth3_final_Central.nc\n",
      "ssp245_pr_ecearth3_final_Central\n",
      "C:/Mayank/Projects/Project_Vietnam/NewData/GCM_Download/ECEARTH3/Merged/Clipped/Unit_Changed/Regional\\ssp245_pr_ecearth3_final_North.nc\n",
      "ssp245_pr_ecearth3_final_North\n",
      "C:/Mayank/Projects/Project_Vietnam/NewData/GCM_Download/ECEARTH3/Merged/Clipped/Unit_Changed/Regional\\ssp245_pr_ecearth3_final_South.nc\n",
      "ssp245_pr_ecearth3_final_South\n",
      "C:/Mayank/Projects/Project_Vietnam/NewData/GCM_Download/ECEARTH3/Merged/Clipped/Unit_Changed/Regional\\ssp245_tas_ecearth3_final_Central.nc\n",
      "ssp245_tas_ecearth3_final_Central\n",
      "C:/Mayank/Projects/Project_Vietnam/NewData/GCM_Download/ECEARTH3/Merged/Clipped/Unit_Changed/Regional\\ssp245_tas_ecearth3_final_North.nc\n",
      "ssp245_tas_ecearth3_final_North\n",
      "C:/Mayank/Projects/Project_Vietnam/NewData/GCM_Download/ECEARTH3/Merged/Clipped/Unit_Changed/Regional\\ssp245_tas_ecearth3_final_South.nc\n",
      "ssp245_tas_ecearth3_final_South\n",
      "C:/Mayank/Projects/Project_Vietnam/NewData/GCM_Download/ECEARTH3/Merged/Clipped/Unit_Changed/Regional\\ssp585_pr_ecearth3_final_Central.nc\n",
      "ssp585_pr_ecearth3_final_Central\n",
      "C:/Mayank/Projects/Project_Vietnam/NewData/GCM_Download/ECEARTH3/Merged/Clipped/Unit_Changed/Regional\\ssp585_pr_ecearth3_final_North.nc\n",
      "ssp585_pr_ecearth3_final_North\n",
      "C:/Mayank/Projects/Project_Vietnam/NewData/GCM_Download/ECEARTH3/Merged/Clipped/Unit_Changed/Regional\\ssp585_pr_ecearth3_final_South.nc\n",
      "ssp585_pr_ecearth3_final_South\n",
      "C:/Mayank/Projects/Project_Vietnam/NewData/GCM_Download/ECEARTH3/Merged/Clipped/Unit_Changed/Regional\\ssp585_tas_ecearth3_final_Central.nc\n",
      "ssp585_tas_ecearth3_final_Central\n",
      "C:/Mayank/Projects/Project_Vietnam/NewData/GCM_Download/ECEARTH3/Merged/Clipped/Unit_Changed/Regional\\ssp585_tas_ecearth3_final_North.nc\n",
      "ssp585_tas_ecearth3_final_North\n",
      "C:/Mayank/Projects/Project_Vietnam/NewData/GCM_Download/ECEARTH3/Merged/Clipped/Unit_Changed/Regional\\ssp585_tas_ecearth3_final_South.nc\n",
      "ssp585_tas_ecearth3_final_South\n",
      "Done!!!\n"
     ]
    }
   ],
   "source": [
    "for fl in file_lst:\n",
    "    print(fl)\n",
    "    ncfile = xr.open_dataset(fl)\n",
    "    ba_name = os.path.basename(fl).split('.')[0]\n",
    "    print(ba_name)\n",
    "    if '_pr_' in ba_name:\n",
    "        ncfile.pr.to_dataframe().to_csv(os.path.join(output_folder,ba_name+'.csv'))\n",
    "    else:        \n",
    "        ncfile.tas.to_dataframe().to_csv(os.path.join(output_folder,ba_name+'.csv'))\n",
    "print('Done!!!')"
   ]
  },
  {
   "cell_type": "code",
   "execution_count": null,
   "id": "8c9b2e9e",
   "metadata": {},
   "outputs": [],
   "source": []
  }
 ],
 "metadata": {
  "kernelspec": {
   "display_name": "Python 3 (ipykernel)",
   "language": "python",
   "name": "python3"
  },
  "language_info": {
   "codemirror_mode": {
    "name": "ipython",
    "version": 3
   },
   "file_extension": ".py",
   "mimetype": "text/x-python",
   "name": "python",
   "nbconvert_exporter": "python",
   "pygments_lexer": "ipython3",
   "version": "3.10.9"
  }
 },
 "nbformat": 4,
 "nbformat_minor": 5
}
