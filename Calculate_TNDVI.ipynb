{
 "cells": [
  {
   "cell_type": "code",
   "execution_count": 20,
   "metadata": {},
   "outputs": [],
   "source": [
    "import rasterio\n",
    "import numpy\n",
    "import os\n",
    "%matplotlib inline\n",
    "import math"
   ]
  },
  {
   "cell_type": "code",
   "execution_count": 5,
   "metadata": {},
   "outputs": [],
   "source": [
    "basedirpath = r'C:/Mayank/Amlai'\n",
    "image_file = \"stacked_image.tif\"\n",
    "\n",
    "# Load red and NIR bands - note all PlanetScope 4-band images have band order BGRN\n",
    "with rasterio.open(os.path.join(basedirpath,image_file)) as src:\n",
    "    band_red = src.read(3)\n",
    "\n",
    "with rasterio.open(os.path.join(basedirpath,image_file)) as src:\n",
    "    band_nir = src.read(4)\n"
   ]
  },
  {
   "cell_type": "code",
   "execution_count": 6,
   "metadata": {},
   "outputs": [],
   "source": [
    "band_red = band_red/10000\n",
    "band_nir = band_nir/10000"
   ]
  },
  {
   "cell_type": "code",
   "execution_count": 7,
   "metadata": {},
   "outputs": [],
   "source": [
    "# Allow division by zero\n",
    "numpy.seterr(divide='ignore', invalid='ignore')\n",
    "\n",
    "# Calculate NDVI\n",
    "ndvi = (band_nir.astype(float) - band_red.astype(float)) / (band_nir + band_red)"
   ]
  },
  {
   "cell_type": "code",
   "execution_count": 11,
   "metadata": {},
   "outputs": [
    {
     "name": "stdout",
     "output_type": "stream",
     "text": [
      "{'driver': 'GTiff', 'dtype': 'float32', 'nodata': nan, 'width': 10980, 'height': 10980, 'count': 1, 'crs': CRS.from_epsg(32644), 'transform': Affine(10.0, 0.0, 499980.0,\n",
      "       0.0, -10.0, 2600040.0)}\n"
     ]
    }
   ],
   "source": [
    "out_meta = rasterio.open(os.path.join(basedirpath,image_file)).meta.copy()\n",
    "out_meta.update({\"dtype\":'float32',\"count\": 1,\"nodata\": numpy.nan})\n",
    "print(out_meta)\n",
    "# out_img=os.path.join(basedirpath,\"stacked_image.tif\")"
   ]
  },
  {
   "cell_type": "code",
   "execution_count": 12,
   "metadata": {},
   "outputs": [],
   "source": [
    "with rasterio.open(os.path.join(basedirpath,'ndvi.tif'), 'w', **out_meta) as dst:\n",
    "        dst.write_band(1, ndvi.astype(rasterio.float32))"
   ]
  },
  {
   "cell_type": "code",
   "execution_count": 17,
   "metadata": {},
   "outputs": [],
   "source": [
    "import matplotlib.pyplot as plt\n",
    "plt.imsave(os.path.join(basedirpath,\"ndvi_cmap.png\"), ndvi, cmap=plt.cm.summer)"
   ]
  },
  {
   "cell_type": "code",
   "execution_count": 32,
   "metadata": {},
   "outputs": [],
   "source": [
    "tndvi = (ndvi+0.5)**0.5"
   ]
  },
  {
   "cell_type": "code",
   "execution_count": 33,
   "metadata": {},
   "outputs": [],
   "source": [
    "with rasterio.open(os.path.join(basedirpath,'tndvi.tif'), 'w', **out_meta) as dst:\n",
    "        dst.write_band(1, tndvi.astype(rasterio.float32))"
   ]
  },
  {
   "cell_type": "code",
   "execution_count": null,
   "metadata": {},
   "outputs": [],
   "source": []
  }
 ],
 "metadata": {
  "kernelspec": {
   "display_name": "Python 3",
   "language": "python",
   "name": "python3"
  },
  "language_info": {
   "codemirror_mode": {
    "name": "ipython",
    "version": 3
   },
   "file_extension": ".py",
   "mimetype": "text/x-python",
   "name": "python",
   "nbconvert_exporter": "python",
   "pygments_lexer": "ipython3",
   "version": "3.8.3"
  }
 },
 "nbformat": 4,
 "nbformat_minor": 4
}
