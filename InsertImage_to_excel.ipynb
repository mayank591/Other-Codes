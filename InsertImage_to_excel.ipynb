{
 "cells": [
  {
   "cell_type": "code",
   "execution_count": 1,
   "metadata": {},
   "outputs": [],
   "source": [
    "import pandas as pd"
   ]
  },
  {
   "cell_type": "code",
   "execution_count": 2,
   "metadata": {},
   "outputs": [],
   "source": [
    "df = pd.read_csv('C:/Mayank/Projects/Project_CDRI/FieldPhotos/Images_details_uttarakhandfield.csv')"
   ]
  },
  {
   "cell_type": "code",
   "execution_count": 3,
   "metadata": {},
   "outputs": [],
   "source": [
    "GFG = pd.ExcelWriter('C:/Mayank/Projects/Project_CDRI/FieldPhotos/Images_details_uttarakhandfield.xlsx')"
   ]
  },
  {
   "cell_type": "code",
   "execution_count": 4,
   "metadata": {},
   "outputs": [
    {
     "name": "stderr",
     "output_type": "stream",
     "text": [
      "<ipython-input-4-6c12084855e4>:2: FutureWarning: save is not part of the public API, usage can give unexpected results and will be removed in a future version\n",
      "  GFG.save()\n"
     ]
    }
   ],
   "source": [
    "df.to_excel(GFG, index = False)\n",
    "GFG.save()"
   ]
  },
  {
   "cell_type": "code",
   "execution_count": 5,
   "metadata": {},
   "outputs": [],
   "source": [
    "import glob\n",
    "import os\n",
    "from openpyxl import load_workbook\n",
    "from openpyxl.drawing.image import Image"
   ]
  },
  {
   "cell_type": "code",
   "execution_count": 6,
   "metadata": {},
   "outputs": [],
   "source": [
    "workbook = load_workbook('C:/Mayank/Projects/Project_CDRI/FieldPhotos/Images_details_uttarakhandfield.xlsx')"
   ]
  },
  {
   "cell_type": "code",
   "execution_count": 7,
   "metadata": {},
   "outputs": [],
   "source": [
    "worksheet = workbook.active"
   ]
  },
  {
   "cell_type": "code",
   "execution_count": 8,
   "metadata": {},
   "outputs": [
    {
     "data": {
      "text/plain": [
       "<Worksheet \"Sheet1\">"
      ]
     },
     "execution_count": 8,
     "metadata": {},
     "output_type": "execute_result"
    }
   ],
   "source": [
    "worksheet"
   ]
  },
  {
   "cell_type": "code",
   "execution_count": 9,
   "metadata": {},
   "outputs": [],
   "source": [
    "imgfiles = glob.glob('C:/Mayank/Projects/Project_CDRI/FieldPhotos/*.jpg')"
   ]
  },
  {
   "cell_type": "code",
   "execution_count": 10,
   "metadata": {},
   "outputs": [
    {
     "name": "stdout",
     "output_type": "stream",
     "text": [
      "104 breaking\n"
     ]
    }
   ],
   "source": [
    "i = 2\n",
    "worksheet.cell(row =1, column=4).value='Image'\n",
    "for filen in imgfiles:\n",
    "        img = Image(filen)\n",
    "        img.height = 250\n",
    "        img.width = 250\n",
    "        anchor = 'D'+str(i)\n",
    "        worksheet.add_image(img, anchor)\n",
    "#         print('D'+str(i))\n",
    "#         print('written' + str(i))\n",
    "        i=i+1\n",
    "        if i>103:\n",
    "            print(i, 'breaking')\n",
    "            break\n",
    "        else:\n",
    "            continue\n",
    "workbook.save(filename='C:/Mayank/Projects/Project_CDRI/FieldPhotos/Images_details_uttarakhandfield.xlsx')\n",
    "workbook.close()"
   ]
  },
  {
   "cell_type": "code",
   "execution_count": null,
   "metadata": {},
   "outputs": [],
   "source": []
  }
 ],
 "metadata": {
  "kernelspec": {
   "display_name": "Python 3",
   "language": "python",
   "name": "python3"
  },
  "language_info": {
   "codemirror_mode": {
    "name": "ipython",
    "version": 3
   },
   "file_extension": ".py",
   "mimetype": "text/x-python",
   "name": "python",
   "nbconvert_exporter": "python",
   "pygments_lexer": "ipython3",
   "version": "3.8.3"
  }
 },
 "nbformat": 4,
 "nbformat_minor": 4
}
